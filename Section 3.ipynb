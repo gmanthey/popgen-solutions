{
 "cells": [
  {
   "cell_type": "code",
   "execution_count": 1,
   "metadata": {},
   "outputs": [],
   "source": [
    "import numpy as np\n",
    "import matplotlib.pyplot as plt"
   ]
  },
  {
   "cell_type": "markdown",
   "metadata": {},
   "source": [
    "## Question 1"
   ]
  },
  {
   "cell_type": "code",
   "execution_count": 5,
   "metadata": {},
   "outputs": [
    {
     "data": {
      "text/plain": [
       "(0.5, 0.71875, 0.4375)"
      ]
     },
     "execution_count": 5,
     "metadata": {},
     "output_type": "execute_result"
    }
   ],
   "source": [
    "HI = 0.09\n",
    "pS = 0.1\n",
    "HS = 2 * pS * (1 - pS)\n",
    "pT = 0.2\n",
    "HT = 2 * pT * (1 - pT)\n",
    "\n",
    "FIS = 1 - HI / HS\n",
    "FIT = 1 - HI / HT\n",
    "FST = 1 - HS / HT\n",
    "\n",
    "FIS, FIT, FST"
   ]
  },
  {
   "cell_type": "markdown",
   "metadata": {},
   "source": [
    "## Question 2"
   ]
  },
  {
   "cell_type": "code",
   "execution_count": 27,
   "metadata": {},
   "outputs": [
    {
     "name": "stdout",
     "output_type": "stream",
     "text": [
      "-0.0930120481927712\n",
      "0.2705376408226029\n",
      "0.4269951210938961\n"
     ]
    }
   ],
   "source": [
    "genotypes = np.array([\n",
    "    [2, 21, 31],\n",
    "    [48, 12, 1]\n",
    "])\n",
    "p_populations = (genotypes[:,0] * 2 + genotypes[:,1]) / (genotypes.sum(axis=1) * 2)\n",
    "p_all = (genotypes[:,0].sum() * 2 + genotypes[:,1].sum()) / (genotypes.sum() * 2)\n",
    "\n",
    "obs_het = genotypes[:,1] / genotypes.sum(axis=1)\n",
    "exp_het = 2 * p_populations * (1 - p_populations)\n",
    "exp_het_all = 2 * p_all * (1 - p_all)\n",
    "\n",
    "FIS_blue_winged = 1 - obs_het[0] / exp_het[0]\n",
    "print(FIS_blue_winged)\n",
    "\n",
    "FST_blue = 1 - exp_het[0] / exp_het_all\n",
    "print(FST_blue)\n",
    "\n",
    "FST_golden = 1 - exp_het[1] / exp_het_all\n",
    "print(np.mean([FST_blue, FST_golden]))\n"
   ]
  }
 ],
 "metadata": {
  "kernelspec": {
   "display_name": "base",
   "language": "python",
   "name": "python3"
  },
  "language_info": {
   "codemirror_mode": {
    "name": "ipython",
    "version": 3
   },
   "file_extension": ".py",
   "mimetype": "text/x-python",
   "name": "python",
   "nbconvert_exporter": "python",
   "pygments_lexer": "ipython3",
   "version": "3.10.14"
  }
 },
 "nbformat": 4,
 "nbformat_minor": 2
}
