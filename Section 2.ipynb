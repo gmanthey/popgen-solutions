{
 "cells": [
  {
   "cell_type": "code",
   "execution_count": 4,
   "metadata": {},
   "outputs": [],
   "source": [
    "from math import sqrt"
   ]
  },
  {
   "cell_type": "markdown",
   "metadata": {},
   "source": [
    "## Question 8"
   ]
  },
  {
   "cell_type": "code",
   "execution_count": 5,
   "metadata": {},
   "outputs": [
    {
     "data": {
      "text/plain": [
       "2.2887463391224944e-07"
      ]
     },
     "execution_count": 5,
     "metadata": {},
     "output_type": "execute_result"
    }
   ],
   "source": [
    "p1_80 = 3/310\n",
    "p1_100 = 13/310\n",
    "p2_80 = 37/310 \n",
    "p2_70 = 42/310\n",
    "p2_93 = 77/310\n",
    "r0 = 1/4\n",
    "r1 = 1/2\n",
    "r2 = 1/4\n",
    "\n",
    "P1 = (p1_80**2 * p1_100**2) * r0 + (1/2 * (p1_80 * p1_100**2 + p1_80**2 * p1_100)) * r1 + (p1_80 * p1_100) * r2\n",
    "\n",
    "P2 = (p2_70**2 * p2_93 * p2_80) * r0 + (p2_70 * p2_93 * p2_80) * r1\n",
    "\n",
    "P1 * P2"
   ]
  },
  {
   "cell_type": "markdown",
   "metadata": {},
   "source": [
    "## Question 9"
   ]
  },
  {
   "cell_type": "markdown",
   "metadata": {},
   "source": [
    "\n",
    "| Genotype 1 | Genotype 2 | Propability of getting genotypes | Propability of getting homozygous offsprint |  \n",
    "|------------|------------|----------------------------------|---------------------------------------------|\n",
    "| $A_1 A_1$  | $A_1 A_1$  | $p^4$                            | 1                                           |  \n",
    "| $A_1 A_1$  | $A_1 A_2$  | $p^2 \\cdot 2pq$                  | 0.5                                         |  \n",
    "| $A_1 A_2$  | $A_1 A_2$  | $(2 * pq)^2$                     | 0.25                                        |   \n",
    "\n",
    "$\n",
    "p^4 + 2 (p^2 * 2pq) \\cdot 0.5 + (2pq)^2 * 0.25 \\\\\n",
    "= p^4 + 2p^3q + p^2q^2\n",
    "$"
   ]
  },
  {
   "cell_type": "markdown",
   "metadata": {},
   "source": [
    "## Question 10"
   ]
  },
  {
   "cell_type": "code",
   "execution_count": 7,
   "metadata": {},
   "outputs": [
    {
     "data": {
      "text/plain": [
       "0.5238095238095237"
      ]
     },
     "execution_count": 7,
     "metadata": {},
     "output_type": "execute_result"
    }
   ],
   "source": [
    "p = 0.7\n",
    "q = 0.3\n",
    "he = 2 * p * q\n",
    "ho = 0.2\n",
    "\n",
    "1 - ho/he"
   ]
  },
  {
   "cell_type": "markdown",
   "metadata": {},
   "source": [
    "## Question 11\n",
    "\n",
    "| Question | $r_0$ | $r_1$ | $r_2$ | $F$ |\n",
    "|---|-----|-----|---|-----|\n",
    "| A | 0.5 | 0.5 | 0 | 1/8 |\n",
    "| B | 0.75 | 0.25 | 0 | 1/16 |\n",
    "| C | 0.25 | 0.5 | 0.25 | 0.25 |\n",
    "| D | 7/8 | 1/8 | 0 | 1/32 |"
   ]
  },
  {
   "cell_type": "markdown",
   "metadata": {},
   "source": [
    "## Question 12"
   ]
  },
  {
   "cell_type": "code",
   "execution_count": 3,
   "metadata": {},
   "outputs": [
    {
     "name": "stdout",
     "output_type": "stream",
     "text": [
      "0.25 0.5 0.25\n",
      "0.6666666666666667\n"
     ]
    }
   ],
   "source": [
    "p = 300 / 600\n",
    "q = 1 - p\n",
    "\n",
    "AA = p**2\n",
    "AB = 2 * p * q\n",
    "BB = q**2\n",
    "\n",
    "print(AA, AB, BB)\n",
    "\n",
    "F = 1 - (100 / 600) / AB\n",
    "\n",
    "print(F)"
   ]
  },
  {
   "cell_type": "markdown",
   "metadata": {},
   "source": [
    "C) Polinators are picky regarding color"
   ]
  },
  {
   "cell_type": "markdown",
   "metadata": {},
   "source": [
    "## Question 13\n",
    "\n",
    "| Question | $r_0$ | $r_1$ | $r_2$ | $F$ |\n",
    "| A | 0.5 | 0.5 | 0 | 1/8 |\n",
    "| B | 0 | 1 | 0 | 0.25 |\n",
    "\n",
    "C 0.25"
   ]
  },
  {
   "cell_type": "markdown",
   "metadata": {},
   "source": [
    "## Question 14\n",
    "\n",
    "We assume random mating (Hardy-Weinberg)"
   ]
  },
  {
   "cell_type": "code",
   "execution_count": null,
   "metadata": {},
   "outputs": [
    {
     "data": {
      "text/plain": [
       "0.6"
      ]
     },
     "execution_count": 6,
     "metadata": {},
     "output_type": "execute_result"
    }
   ],
   "source": [
    "BB = 0.16\n",
    "q = sqrt(BB) \n",
    "\n",
    "p = 1 - q\n",
    "\n",
    "p"
   ]
  },
  {
   "cell_type": "markdown",
   "metadata": {},
   "source": [
    "## Question 15"
   ]
  },
  {
   "cell_type": "code",
   "execution_count": 15,
   "metadata": {},
   "outputs": [
    {
     "data": {
      "text/plain": [
       "0.00025274400300000005"
      ]
     },
     "execution_count": 15,
     "metadata": {},
     "output_type": "execute_result"
    }
   ],
   "source": [
    "p = 0.001\n",
    "q = 1 - p\n",
    "r_1 = 0.25\n",
    "r_0 = 0.75\n",
    "\n",
    "## 0.001 allele IBD - 0.999 allele IBD  - No allele IBD\n",
    "(r_1 * p * q * q)   + (r_1 * q * p * p) + (r_0 * 2 * 2 * p * p * q * q )"
   ]
  },
  {
   "cell_type": "markdown",
   "metadata": {},
   "source": [
    "## Question 16\n",
    "\n"
   ]
  },
  {
   "cell_type": "markdown",
   "metadata": {},
   "source": [
    "## Question 17\n",
    "\n"
   ]
  }
 ],
 "metadata": {
  "kernelspec": {
   "display_name": "base",
   "language": "python",
   "name": "python3"
  },
  "language_info": {
   "codemirror_mode": {
    "name": "ipython",
    "version": 3
   },
   "file_extension": ".py",
   "mimetype": "text/x-python",
   "name": "python",
   "nbconvert_exporter": "python",
   "pygments_lexer": "ipython3",
   "version": "3.10.14"
  }
 },
 "nbformat": 4,
 "nbformat_minor": 2
}
