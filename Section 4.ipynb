{
 "cells": [
  {
   "cell_type": "code",
   "execution_count": 3,
   "metadata": {},
   "outputs": [],
   "source": [
    "import numpy as np\n",
    "import matplotlib.pyplot as plt"
   ]
  },
  {
   "cell_type": "markdown",
   "metadata": {},
   "source": [
    "## Question 1"
   ]
  },
  {
   "cell_type": "code",
   "execution_count": 2,
   "metadata": {},
   "outputs": [
    {
     "data": {
      "text/plain": [
       "np.float64(1649.943881750304)"
      ]
     },
     "execution_count": 2,
     "metadata": {},
     "output_type": "execute_result"
    }
   ],
   "source": [
    "H0 = 0.005\n",
    "Ht = 0.0049\n",
    "t = 200 / 3\n",
    "\n",
    "-t / np.log(Ht / H0) / 2"
   ]
  },
  {
   "cell_type": "markdown",
   "metadata": {},
   "source": [
    "## Question 2"
   ]
  },
  {
   "cell_type": "code",
   "execution_count": 17,
   "metadata": {},
   "outputs": [
    {
     "data": {
      "text/plain": [
       "(array([0.60653066, 0.00673795, 0.95122942, 0.60653066]),\n",
       " array([0.59049   , 0.00515378, 0.95099005, 0.60500607]))"
      ]
     },
     "execution_count": 17,
     "metadata": {},
     "output_type": "execute_result"
    },
    {
     "data": {
      "image/png": "[encoded data removed]",
      "text/plain": [
       "<Figure size 640x480 with 2 Axes>"
      ]
     },
     "metadata": {},
     "output_type": "display_data"
    }
   ],
   "source": [
    "x = np.array([0.1, 0.1, 0.01, 0.01])\n",
    "t = np.array([5, 50, 5, 50])\n",
    "\n",
    "exact = np.exp(-x * t)\n",
    "approx = (1 - x)**t\n",
    "\n",
    "plt.scatter(exact, approx, c=x)\n",
    "plt.plot([0, 1], [0, 1])\n",
    "\n",
    "#plt.xlim(0.2, 0.7)\n",
    "#plt.ylim(0.2, 0.7)\n",
    "\n",
    "plt.colorbar()\n",
    "\n",
    "exact, approx"
   ]
  },
  {
   "cell_type": "markdown",
   "metadata": {},
   "source": [
    "For the formula above with heterozygosity approximation, we expect to be dealing with small values of x (1 / 2N), so we expect the approximation to fit quite well. "
   ]
  },
  {
   "cell_type": "markdown",
   "metadata": {},
   "source": [
    "## Question 3"
   ]
  },
  {
   "cell_type": "code",
   "execution_count": 22,
   "metadata": {},
   "outputs": [
    {
     "data": {
      "text/plain": [
       "(89.99999999999999, 245.99999999999997)"
      ]
     },
     "execution_count": 22,
     "metadata": {},
     "output_type": "execute_result"
    }
   ],
   "source": [
    "r = 1.5e-8\n",
    "genome = 3e9\n",
    "pop_size = 8.2e9\n",
    "\n",
    "genome * r * 2, pop_size * r * 2"
   ]
  },
  {
   "cell_type": "markdown",
   "metadata": {},
   "source": [
    "## Question 4"
   ]
  },
  {
   "cell_type": "code",
   "execution_count": 1,
   "metadata": {},
   "outputs": [
    {
     "data": {
      "text/plain": [
       "181.8181818181818"
      ]
     },
     "execution_count": 1,
     "metadata": {},
     "output_type": "execute_result"
    }
   ],
   "source": [
    "N_F = 500 \n",
    "N_M = 500 * 0.1\n",
    "\n",
    "(4 * N_F * N_M) / (N_F + N_M)"
   ]
  },
  {
   "cell_type": "markdown",
   "metadata": {},
   "source": [
    "## Question 5"
   ]
  },
  {
   "cell_type": "code",
   "execution_count": 18,
   "metadata": {},
   "outputs": [
    {
     "name": "stdout",
     "output_type": "stream",
     "text": [
      "Num females: 3961.654336886726\n",
      "Num males: 178.6337936858884\n",
      "N_e: 683.7063712977421\n",
      "Reduction on autosomes: 0.81\n"
     ]
    }
   ],
   "source": [
    "T = 2300 / 8\n",
    "\n",
    "N_f = -T / np.log(0.93)\n",
    "N_m = -T / np.log(0.2)\n",
    "\n",
    "print(f'Num females: {N_f}')\n",
    "print(f'Num males: {N_m}')\n",
    "\n",
    "N_e = (4 * N_f * N_m) / (N_f + N_m)\n",
    "\n",
    "print(f'N_e: {N_e}')\n",
    "\n",
    "reduction = np.exp(-T / (2 * N_e))\n",
    "\n",
    "print(f'Reduction on autosomes: {reduction:.3}')"
   ]
  },
  {
   "cell_type": "markdown",
   "metadata": {},
   "source": [
    "## Question 6\n",
    "Reforming the formula 4.13:\n",
    "$$\n",
    "H = \\frac{4N\\mu}{1 + 4N\\mu} \\\\\n",
    "H + 4N\\mu H = 4N\\mu \\\\\n",
    "H = 4N\\mu - 4N\\mu H \\\\\n",
    "H = 4N\\mu (1 - H) \\\\\n",
    "N = \\frac{H}{4\\mu(1 - H)} \\\\\n",
    "$$"
   ]
  },
  {
   "cell_type": "code",
   "execution_count": 24,
   "metadata": {},
   "outputs": [
    {
     "data": {
      "text/plain": [
       "'N_e = 1.87e+06'"
      ]
     },
     "execution_count": 24,
     "metadata": {},
     "output_type": "execute_result"
    }
   ],
   "source": [
    "mu = 2e-8\n",
    "H = 0.13\n",
    "\n",
    "f'N_e = {H / (4 * mu * (1 - H)):.2e}'"
   ]
  }
 ],
 "metadata": {
  "kernelspec": {
   "display_name": "base",
   "language": "python",
   "name": "python3"
  },
  "language_info": {
   "codemirror_mode": {
    "name": "ipython",
    "version": 3
   },
   "file_extension": ".py",
   "mimetype": "text/x-python",
   "name": "python",
   "nbconvert_exporter": "python",
   "pygments_lexer": "ipython3",
   "version": "3.10.14"
  }
 },
 "nbformat": 4,
 "nbformat_minor": 2
}
