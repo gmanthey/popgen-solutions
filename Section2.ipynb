{
 "cells": [
  {
   "cell_type": "markdown",
   "metadata": {},
   "source": [
    "# Question 8"
   ]
  },
  {
   "cell_type": "code",
   "execution_count": 5,
   "metadata": {},
   "outputs": [
    {
     "data": {
      "text/plain": [
       "2.2887463391224944e-07"
      ]
     },
     "execution_count": 5,
     "metadata": {},
     "output_type": "execute_result"
    }
   ],
   "source": [
    "p1_80 = 3/310\n",
    "p1_100 = 13/310\n",
    "p2_80 = 37/310 \n",
    "p2_70 = 42/310\n",
    "p2_93 = 77/310\n",
    "r0 = 1/4\n",
    "r1 = 1/2\n",
    "r2 = 1/4\n",
    "\n",
    "P1 = (p1_80**2 * p1_100**2) * r0 + (1/2 * (p1_80 * p1_100**2 + p1_80**2 * p1_100)) * r1 + (p1_80 * p1_100) * r2\n",
    "\n",
    "P2 = (p2_70**2 * p2_93 * p2_80) * r0 + (p2_70 * p2_93 * p2_80) * r1\n",
    "\n",
    "P1 * P2"
   ]
  }
 ],
 "metadata": {
  "kernelspec": {
   "display_name": "base",
   "language": "python",
   "name": "python3"
  },
  "language_info": {
   "codemirror_mode": {
    "name": "ipython",
    "version": 3
   },
   "file_extension": ".py",
   "mimetype": "text/x-python",
   "name": "python",
   "nbconvert_exporter": "python",
   "pygments_lexer": "ipython3",
   "version": "3.10.14"
  }
 },
 "nbformat": 4,
 "nbformat_minor": 2
}
